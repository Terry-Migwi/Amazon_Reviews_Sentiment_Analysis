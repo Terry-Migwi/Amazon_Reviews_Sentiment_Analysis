{
  "nbformat": 4,
  "nbformat_minor": 0,
  "metadata": {
    "colab": {
      "provenance": [],
      "gpuType": "T4",
      "mount_file_id": "13mIX2XiNriKfaci6N0mw_i4qJIo_9dkG",
      "authorship_tag": "ABX9TyNOPu9IGRu/6q9TPSNKyzYU",
      "include_colab_link": true
    },
    "kernelspec": {
      "name": "python3",
      "display_name": "Python 3"
    },
    "language_info": {
      "name": "python"
    },
    "accelerator": "GPU",
    "gpuClass": "standard"
  },
  "cells": [
    {
      "cell_type": "markdown",
      "metadata": {
        "id": "view-in-github",
        "colab_type": "text"
      },
      "source": [
        "<a href=\"https://colab.research.google.com/github/Terry-Migwi/Amazon_Reviews_Sentiment_Analysis/blob/main/NN_CDs_Vinyl.ipynb\" target=\"_parent\"><img src=\"https://colab.research.google.com/assets/colab-badge.svg\" alt=\"Open In Colab\"/></a>"
      ]
    },
    {
      "cell_type": "markdown",
      "source": [
        "## Defining the question\n",
        "\n",
        "The objective of this notebook is to classify sentiment reviews of CDs and Vinyl products using `Neural Networks` for `Natural Language Processing`. The network was built with 10 epochs, and an overall test accuracy of 90%.\n",
        "\n"
      ],
      "metadata": {
        "id": "3iM9bzXPlo9K"
      }
    },
    {
      "cell_type": "code",
      "source": [
        "# import necessary libraries\n",
        "import pandas as pd\n",
        "import numpy as np\n",
        "\n",
        "from sklearn.model_selection import train_test_split\n",
        "\n",
        "# for deep learning\n",
        "from keras.utils import to_categorical\n",
        "from keras import models\n",
        "from keras import layers\n",
        "from tensorflow.keras.preprocessing.text import Tokenizer\n",
        "from tensorflow.keras.preprocessing.sequence import pad_sequences\n"
      ],
      "metadata": {
        "id": "ZPC3i6VljMu_"
      },
      "execution_count": null,
      "outputs": []
    },
    {
      "cell_type": "code",
      "execution_count": null,
      "metadata": {
        "colab": {
          "base_uri": "https://localhost:8080/"
        },
        "id": "1vmrzNl_d4Qh",
        "outputId": "725b7cd2-86f2-485c-b296-aa2ae26873d3"
      },
      "outputs": [
        {
          "output_type": "stream",
          "name": "stderr",
          "text": [
            "[nltk_data] Downloading package punkt to /root/nltk_data...\n",
            "[nltk_data]   Unzipping tokenizers/punkt.zip.\n",
            "[nltk_data] Downloading package stopwords to /root/nltk_data...\n",
            "[nltk_data]   Unzipping corpora/stopwords.zip.\n",
            "[nltk_data] Downloading package wordnet to /root/nltk_data...\n"
          ]
        }
      ],
      "source": [
        "# for nlp\n",
        "# Use regular expression\n",
        "import re\n",
        "\n",
        "# Get a bunch of tools from nltk for nlp\n",
        "import nltk\n",
        "nltk.download('punkt')\n",
        "nltk.download('stopwords')\n",
        "nltk.download('wordnet')\n",
        "from nltk import word_tokenize\n",
        "from nltk.corpus import stopwords\n",
        "\n",
        "# Get English stopwords\n",
        "en_stopwords = set(stopwords.words('english'))"
      ]
    },
    {
      "cell_type": "code",
      "source": [
        "# First upload a review data set to the runtime\n",
        "\n",
        "# Initiate an empty list to store sliced dataframes (chunks)\n",
        "myList = []\n",
        "\n",
        "# Specify the chunksize\n",
        "chunksize = 1000\n",
        "\n",
        "# nrows should be more than the total number of rows in the whole file\n",
        "for chunk in pd.read_json('/content/drive/MyDrive/Colab Notebooks/CDs_and_Vinyl_5.json.gz', compression='gzip', nrows=10000000, lines=True, chunksize=chunksize):\n",
        "    myList.append(chunk)\n",
        "\n",
        "# put the chunks together\n",
        "myData = pd.concat(myList,axis=0)"
      ],
      "metadata": {
        "id": "oDEk3v3ggPoh"
      },
      "execution_count": null,
      "outputs": []
    },
    {
      "cell_type": "code",
      "source": [
        "# preview the top of the data\n",
        "myData.head(3)"
      ],
      "metadata": {
        "colab": {
          "base_uri": "https://localhost:8080/",
          "height": 257
        },
        "id": "9Yw0GvIsgUoX",
        "outputId": "b680cd2e-7b44-4289-ad78-73d8075aa01e"
      },
      "execution_count": null,
      "outputs": [
        {
          "output_type": "execute_result",
          "data": {
            "text/plain": [
              "       reviewerID        asin      reviewerName  verified  \\\n",
              "0  A1H1DL4K669VQ9  0001393774   Judith Paladino      True   \n",
              "1  A3V5XBBT7OZG5G  0001393774            gflady      True   \n",
              "2  A3SNL7UJY7GWBI  0001393774  Lady Leatherneck      True   \n",
              "\n",
              "                                          reviewText  overall   reviewTime  \\\n",
              "0                           Love it!!  Great seller!        5  04 29, 2016   \n",
              "1  One of my very favourite albums from one of my...        5  02 23, 2016   \n",
              "2  THank you Jesus Lord God, that brother Green's...        5  02 11, 2016   \n",
              "\n",
              "                                             summary  unixReviewTime style  \\\n",
              "0                                         Five Stars      1461888000   NaN   \n",
              "1  One of my very favourite albums from one of my...      1456185600   NaN   \n",
              "2                                         Five Stars      1455148800   NaN   \n",
              "\n",
              "  vote image  \n",
              "0  NaN   NaN  \n",
              "1  NaN   NaN  \n",
              "2  NaN   NaN  "
            ],
            "text/html": [
              "\n",
              "  <div id=\"df-ad8a3965-8493-44c5-8717-ad140a357b6b\">\n",
              "    <div class=\"colab-df-container\">\n",
              "      <div>\n",
              "<style scoped>\n",
              "    .dataframe tbody tr th:only-of-type {\n",
              "        vertical-align: middle;\n",
              "    }\n",
              "\n",
              "    .dataframe tbody tr th {\n",
              "        vertical-align: top;\n",
              "    }\n",
              "\n",
              "    .dataframe thead th {\n",
              "        text-align: right;\n",
              "    }\n",
              "</style>\n",
              "<table border=\"1\" class=\"dataframe\">\n",
              "  <thead>\n",
              "    <tr style=\"text-align: right;\">\n",
              "      <th></th>\n",
              "      <th>reviewerID</th>\n",
              "      <th>asin</th>\n",
              "      <th>reviewerName</th>\n",
              "      <th>verified</th>\n",
              "      <th>reviewText</th>\n",
              "      <th>overall</th>\n",
              "      <th>reviewTime</th>\n",
              "      <th>summary</th>\n",
              "      <th>unixReviewTime</th>\n",
              "      <th>style</th>\n",
              "      <th>vote</th>\n",
              "      <th>image</th>\n",
              "    </tr>\n",
              "  </thead>\n",
              "  <tbody>\n",
              "    <tr>\n",
              "      <th>0</th>\n",
              "      <td>A1H1DL4K669VQ9</td>\n",
              "      <td>0001393774</td>\n",
              "      <td>Judith Paladino</td>\n",
              "      <td>True</td>\n",
              "      <td>Love it!!  Great seller!</td>\n",
              "      <td>5</td>\n",
              "      <td>04 29, 2016</td>\n",
              "      <td>Five Stars</td>\n",
              "      <td>1461888000</td>\n",
              "      <td>NaN</td>\n",
              "      <td>NaN</td>\n",
              "      <td>NaN</td>\n",
              "    </tr>\n",
              "    <tr>\n",
              "      <th>1</th>\n",
              "      <td>A3V5XBBT7OZG5G</td>\n",
              "      <td>0001393774</td>\n",
              "      <td>gflady</td>\n",
              "      <td>True</td>\n",
              "      <td>One of my very favourite albums from one of my...</td>\n",
              "      <td>5</td>\n",
              "      <td>02 23, 2016</td>\n",
              "      <td>One of my very favourite albums from one of my...</td>\n",
              "      <td>1456185600</td>\n",
              "      <td>NaN</td>\n",
              "      <td>NaN</td>\n",
              "      <td>NaN</td>\n",
              "    </tr>\n",
              "    <tr>\n",
              "      <th>2</th>\n",
              "      <td>A3SNL7UJY7GWBI</td>\n",
              "      <td>0001393774</td>\n",
              "      <td>Lady Leatherneck</td>\n",
              "      <td>True</td>\n",
              "      <td>THank you Jesus Lord God, that brother Green's...</td>\n",
              "      <td>5</td>\n",
              "      <td>02 11, 2016</td>\n",
              "      <td>Five Stars</td>\n",
              "      <td>1455148800</td>\n",
              "      <td>NaN</td>\n",
              "      <td>NaN</td>\n",
              "      <td>NaN</td>\n",
              "    </tr>\n",
              "  </tbody>\n",
              "</table>\n",
              "</div>\n",
              "      <button class=\"colab-df-convert\" onclick=\"convertToInteractive('df-ad8a3965-8493-44c5-8717-ad140a357b6b')\"\n",
              "              title=\"Convert this dataframe to an interactive table.\"\n",
              "              style=\"display:none;\">\n",
              "        \n",
              "  <svg xmlns=\"http://www.w3.org/2000/svg\" height=\"24px\"viewBox=\"0 0 24 24\"\n",
              "       width=\"24px\">\n",
              "    <path d=\"M0 0h24v24H0V0z\" fill=\"none\"/>\n",
              "    <path d=\"M18.56 5.44l.94 2.06.94-2.06 2.06-.94-2.06-.94-.94-2.06-.94 2.06-2.06.94zm-11 1L8.5 8.5l.94-2.06 2.06-.94-2.06-.94L8.5 2.5l-.94 2.06-2.06.94zm10 10l.94 2.06.94-2.06 2.06-.94-2.06-.94-.94-2.06-.94 2.06-2.06.94z\"/><path d=\"M17.41 7.96l-1.37-1.37c-.4-.4-.92-.59-1.43-.59-.52 0-1.04.2-1.43.59L10.3 9.45l-7.72 7.72c-.78.78-.78 2.05 0 2.83L4 21.41c.39.39.9.59 1.41.59.51 0 1.02-.2 1.41-.59l7.78-7.78 2.81-2.81c.8-.78.8-2.07 0-2.86zM5.41 20L4 18.59l7.72-7.72 1.47 1.35L5.41 20z\"/>\n",
              "  </svg>\n",
              "      </button>\n",
              "      \n",
              "  <style>\n",
              "    .colab-df-container {\n",
              "      display:flex;\n",
              "      flex-wrap:wrap;\n",
              "      gap: 12px;\n",
              "    }\n",
              "\n",
              "    .colab-df-convert {\n",
              "      background-color: #E8F0FE;\n",
              "      border: none;\n",
              "      border-radius: 50%;\n",
              "      cursor: pointer;\n",
              "      display: none;\n",
              "      fill: #1967D2;\n",
              "      height: 32px;\n",
              "      padding: 0 0 0 0;\n",
              "      width: 32px;\n",
              "    }\n",
              "\n",
              "    .colab-df-convert:hover {\n",
              "      background-color: #E2EBFA;\n",
              "      box-shadow: 0px 1px 2px rgba(60, 64, 67, 0.3), 0px 1px 3px 1px rgba(60, 64, 67, 0.15);\n",
              "      fill: #174EA6;\n",
              "    }\n",
              "\n",
              "    [theme=dark] .colab-df-convert {\n",
              "      background-color: #3B4455;\n",
              "      fill: #D2E3FC;\n",
              "    }\n",
              "\n",
              "    [theme=dark] .colab-df-convert:hover {\n",
              "      background-color: #434B5C;\n",
              "      box-shadow: 0px 1px 3px 1px rgba(0, 0, 0, 0.15);\n",
              "      filter: drop-shadow(0px 1px 2px rgba(0, 0, 0, 0.3));\n",
              "      fill: #FFFFFF;\n",
              "    }\n",
              "  </style>\n",
              "\n",
              "      <script>\n",
              "        const buttonEl =\n",
              "          document.querySelector('#df-ad8a3965-8493-44c5-8717-ad140a357b6b button.colab-df-convert');\n",
              "        buttonEl.style.display =\n",
              "          google.colab.kernel.accessAllowed ? 'block' : 'none';\n",
              "\n",
              "        async function convertToInteractive(key) {\n",
              "          const element = document.querySelector('#df-ad8a3965-8493-44c5-8717-ad140a357b6b');\n",
              "          const dataTable =\n",
              "            await google.colab.kernel.invokeFunction('convertToInteractive',\n",
              "                                                     [key], {});\n",
              "          if (!dataTable) return;\n",
              "\n",
              "          const docLinkHtml = 'Like what you see? Visit the ' +\n",
              "            '<a target=\"_blank\" href=https://colab.research.google.com/notebooks/data_table.ipynb>data table notebook</a>'\n",
              "            + ' to learn more about interactive tables.';\n",
              "          element.innerHTML = '';\n",
              "          dataTable['output_type'] = 'display_data';\n",
              "          await google.colab.output.renderOutput(dataTable, element);\n",
              "          const docLink = document.createElement('div');\n",
              "          docLink.innerHTML = docLinkHtml;\n",
              "          element.appendChild(docLink);\n",
              "        }\n",
              "      </script>\n",
              "    </div>\n",
              "  </div>\n",
              "  "
            ]
          },
          "metadata": {},
          "execution_count": 6
        }
      ]
    },
    {
      "cell_type": "code",
      "source": [
        "# adding the status column to the dataset\n",
        "# creating a list of our conditions\n",
        "conditions = [\n",
        "              myData['overall'] >= 4,\n",
        "              myData['overall'] <= 2\n",
        "]\n",
        "\n",
        "# create a list of the values we want to assign for each\n",
        "values = [1, 0]\n",
        "\n",
        "# creating a new columnn and using np.select to assign values to it using our lists as attributes\n",
        "\n",
        "myData['label'] = np.select(conditions, values)\n",
        "\n",
        "# previewing the column\n",
        "myData.head(3)"
      ],
      "metadata": {
        "colab": {
          "base_uri": "https://localhost:8080/",
          "height": 257
        },
        "id": "nk4MiQG6g89d",
        "outputId": "9283cd54-3342-4cb4-9902-a20932a24a5b"
      },
      "execution_count": null,
      "outputs": [
        {
          "output_type": "execute_result",
          "data": {
            "text/plain": [
              "       reviewerID        asin      reviewerName  verified  \\\n",
              "0  A1H1DL4K669VQ9  0001393774   Judith Paladino      True   \n",
              "1  A3V5XBBT7OZG5G  0001393774            gflady      True   \n",
              "2  A3SNL7UJY7GWBI  0001393774  Lady Leatherneck      True   \n",
              "\n",
              "                                          reviewText  overall   reviewTime  \\\n",
              "0                           Love it!!  Great seller!        5  04 29, 2016   \n",
              "1  One of my very favourite albums from one of my...        5  02 23, 2016   \n",
              "2  THank you Jesus Lord God, that brother Green's...        5  02 11, 2016   \n",
              "\n",
              "                                             summary  unixReviewTime style  \\\n",
              "0                                         Five Stars      1461888000   NaN   \n",
              "1  One of my very favourite albums from one of my...      1456185600   NaN   \n",
              "2                                         Five Stars      1455148800   NaN   \n",
              "\n",
              "  vote image  label  \n",
              "0  NaN   NaN      1  \n",
              "1  NaN   NaN      1  \n",
              "2  NaN   NaN      1  "
            ],
            "text/html": [
              "\n",
              "  <div id=\"df-53b44a81-8e57-4b5b-9f5d-be53ca94a534\">\n",
              "    <div class=\"colab-df-container\">\n",
              "      <div>\n",
              "<style scoped>\n",
              "    .dataframe tbody tr th:only-of-type {\n",
              "        vertical-align: middle;\n",
              "    }\n",
              "\n",
              "    .dataframe tbody tr th {\n",
              "        vertical-align: top;\n",
              "    }\n",
              "\n",
              "    .dataframe thead th {\n",
              "        text-align: right;\n",
              "    }\n",
              "</style>\n",
              "<table border=\"1\" class=\"dataframe\">\n",
              "  <thead>\n",
              "    <tr style=\"text-align: right;\">\n",
              "      <th></th>\n",
              "      <th>reviewerID</th>\n",
              "      <th>asin</th>\n",
              "      <th>reviewerName</th>\n",
              "      <th>verified</th>\n",
              "      <th>reviewText</th>\n",
              "      <th>overall</th>\n",
              "      <th>reviewTime</th>\n",
              "      <th>summary</th>\n",
              "      <th>unixReviewTime</th>\n",
              "      <th>style</th>\n",
              "      <th>vote</th>\n",
              "      <th>image</th>\n",
              "      <th>label</th>\n",
              "    </tr>\n",
              "  </thead>\n",
              "  <tbody>\n",
              "    <tr>\n",
              "      <th>0</th>\n",
              "      <td>A1H1DL4K669VQ9</td>\n",
              "      <td>0001393774</td>\n",
              "      <td>Judith Paladino</td>\n",
              "      <td>True</td>\n",
              "      <td>Love it!!  Great seller!</td>\n",
              "      <td>5</td>\n",
              "      <td>04 29, 2016</td>\n",
              "      <td>Five Stars</td>\n",
              "      <td>1461888000</td>\n",
              "      <td>NaN</td>\n",
              "      <td>NaN</td>\n",
              "      <td>NaN</td>\n",
              "      <td>1</td>\n",
              "    </tr>\n",
              "    <tr>\n",
              "      <th>1</th>\n",
              "      <td>A3V5XBBT7OZG5G</td>\n",
              "      <td>0001393774</td>\n",
              "      <td>gflady</td>\n",
              "      <td>True</td>\n",
              "      <td>One of my very favourite albums from one of my...</td>\n",
              "      <td>5</td>\n",
              "      <td>02 23, 2016</td>\n",
              "      <td>One of my very favourite albums from one of my...</td>\n",
              "      <td>1456185600</td>\n",
              "      <td>NaN</td>\n",
              "      <td>NaN</td>\n",
              "      <td>NaN</td>\n",
              "      <td>1</td>\n",
              "    </tr>\n",
              "    <tr>\n",
              "      <th>2</th>\n",
              "      <td>A3SNL7UJY7GWBI</td>\n",
              "      <td>0001393774</td>\n",
              "      <td>Lady Leatherneck</td>\n",
              "      <td>True</td>\n",
              "      <td>THank you Jesus Lord God, that brother Green's...</td>\n",
              "      <td>5</td>\n",
              "      <td>02 11, 2016</td>\n",
              "      <td>Five Stars</td>\n",
              "      <td>1455148800</td>\n",
              "      <td>NaN</td>\n",
              "      <td>NaN</td>\n",
              "      <td>NaN</td>\n",
              "      <td>1</td>\n",
              "    </tr>\n",
              "  </tbody>\n",
              "</table>\n",
              "</div>\n",
              "      <button class=\"colab-df-convert\" onclick=\"convertToInteractive('df-53b44a81-8e57-4b5b-9f5d-be53ca94a534')\"\n",
              "              title=\"Convert this dataframe to an interactive table.\"\n",
              "              style=\"display:none;\">\n",
              "        \n",
              "  <svg xmlns=\"http://www.w3.org/2000/svg\" height=\"24px\"viewBox=\"0 0 24 24\"\n",
              "       width=\"24px\">\n",
              "    <path d=\"M0 0h24v24H0V0z\" fill=\"none\"/>\n",
              "    <path d=\"M18.56 5.44l.94 2.06.94-2.06 2.06-.94-2.06-.94-.94-2.06-.94 2.06-2.06.94zm-11 1L8.5 8.5l.94-2.06 2.06-.94-2.06-.94L8.5 2.5l-.94 2.06-2.06.94zm10 10l.94 2.06.94-2.06 2.06-.94-2.06-.94-.94-2.06-.94 2.06-2.06.94z\"/><path d=\"M17.41 7.96l-1.37-1.37c-.4-.4-.92-.59-1.43-.59-.52 0-1.04.2-1.43.59L10.3 9.45l-7.72 7.72c-.78.78-.78 2.05 0 2.83L4 21.41c.39.39.9.59 1.41.59.51 0 1.02-.2 1.41-.59l7.78-7.78 2.81-2.81c.8-.78.8-2.07 0-2.86zM5.41 20L4 18.59l7.72-7.72 1.47 1.35L5.41 20z\"/>\n",
              "  </svg>\n",
              "      </button>\n",
              "      \n",
              "  <style>\n",
              "    .colab-df-container {\n",
              "      display:flex;\n",
              "      flex-wrap:wrap;\n",
              "      gap: 12px;\n",
              "    }\n",
              "\n",
              "    .colab-df-convert {\n",
              "      background-color: #E8F0FE;\n",
              "      border: none;\n",
              "      border-radius: 50%;\n",
              "      cursor: pointer;\n",
              "      display: none;\n",
              "      fill: #1967D2;\n",
              "      height: 32px;\n",
              "      padding: 0 0 0 0;\n",
              "      width: 32px;\n",
              "    }\n",
              "\n",
              "    .colab-df-convert:hover {\n",
              "      background-color: #E2EBFA;\n",
              "      box-shadow: 0px 1px 2px rgba(60, 64, 67, 0.3), 0px 1px 3px 1px rgba(60, 64, 67, 0.15);\n",
              "      fill: #174EA6;\n",
              "    }\n",
              "\n",
              "    [theme=dark] .colab-df-convert {\n",
              "      background-color: #3B4455;\n",
              "      fill: #D2E3FC;\n",
              "    }\n",
              "\n",
              "    [theme=dark] .colab-df-convert:hover {\n",
              "      background-color: #434B5C;\n",
              "      box-shadow: 0px 1px 3px 1px rgba(0, 0, 0, 0.15);\n",
              "      filter: drop-shadow(0px 1px 2px rgba(0, 0, 0, 0.3));\n",
              "      fill: #FFFFFF;\n",
              "    }\n",
              "  </style>\n",
              "\n",
              "      <script>\n",
              "        const buttonEl =\n",
              "          document.querySelector('#df-53b44a81-8e57-4b5b-9f5d-be53ca94a534 button.colab-df-convert');\n",
              "        buttonEl.style.display =\n",
              "          google.colab.kernel.accessAllowed ? 'block' : 'none';\n",
              "\n",
              "        async function convertToInteractive(key) {\n",
              "          const element = document.querySelector('#df-53b44a81-8e57-4b5b-9f5d-be53ca94a534');\n",
              "          const dataTable =\n",
              "            await google.colab.kernel.invokeFunction('convertToInteractive',\n",
              "                                                     [key], {});\n",
              "          if (!dataTable) return;\n",
              "\n",
              "          const docLinkHtml = 'Like what you see? Visit the ' +\n",
              "            '<a target=\"_blank\" href=https://colab.research.google.com/notebooks/data_table.ipynb>data table notebook</a>'\n",
              "            + ' to learn more about interactive tables.';\n",
              "          element.innerHTML = '';\n",
              "          dataTable['output_type'] = 'display_data';\n",
              "          await google.colab.output.renderOutput(dataTable, element);\n",
              "          const docLink = document.createElement('div');\n",
              "          docLink.innerHTML = docLinkHtml;\n",
              "          element.appendChild(docLink);\n",
              "        }\n",
              "      </script>\n",
              "    </div>\n",
              "  </div>\n",
              "  "
            ]
          },
          "metadata": {},
          "execution_count": 5
        }
      ]
    },
    {
      "cell_type": "code",
      "source": [
        "# only keep the verified reviews\n",
        "# myData = myData[myData['verified'] == True]\n",
        "# len(myData)"
      ],
      "metadata": {
        "colab": {
          "base_uri": "https://localhost:8080/"
        },
        "id": "Ne0gxor7LPBP",
        "outputId": "4867fd5b-dec1-4096-caff-a759058dc6bd"
      },
      "execution_count": null,
      "outputs": [
        {
          "output_type": "execute_result",
          "data": {
            "text/plain": [
              "743956"
            ]
          },
          "metadata": {},
          "execution_count": 7
        }
      ]
    },
    {
      "cell_type": "code",
      "source": [
        "# Operate the data cleaning process on reviewText\n",
        "\n",
        "# Make sure the column 'reviewText' is of string type\n",
        "myData['reviewText'] = myData['reviewText'].apply(str)\n",
        "# Remove special characters\n",
        "myData['clean_review'] = myData['reviewText'].str.replace(\"[^a-zA-Z']\",\" \",regex=True)\n",
        "# Remove leading and trailing whitespaces\n",
        "myData['clean_review'] = myData['clean_review'].str.strip()\n",
        "# convert to lowercase\n",
        "myData['clean_review'] = myData['clean_review'].str.lower()\n"
      ],
      "metadata": {
        "id": "v0qklnoti5cr"
      },
      "execution_count": null,
      "outputs": []
    },
    {
      "cell_type": "code",
      "source": [
        "#defining the function to remove stopwords from tokenized text\n",
        "# def remove_stopwords(text):\n",
        "#     output= [i for i in text if i not in en_stopwords]\n",
        "#     return output\n",
        "\n",
        "# #applying the function\n",
        "# myData['clean_review']= myData['clean_review'].apply(lambda x:remove_stopwords(x))\n",
        "\n",
        "myData['clean_review'] = myData['clean_review'].apply(lambda x: ' '.join([word for word in x.split() if word not in (en_stopwords)]))\n"
      ],
      "metadata": {
        "id": "YDdQqW4YrtsG"
      },
      "execution_count": null,
      "outputs": []
    },
    {
      "cell_type": "code",
      "source": [
        "\n",
        "#defining function for tokenization\n",
        "\n",
        "def tokenization(text):\n",
        "    tokens = re.split('W+',text)\n",
        "    return tokens\n",
        "#applying function to the column\n",
        "myData['clean_review'] = myData['clean_review'].apply(lambda x: tokenization(x))"
      ],
      "metadata": {
        "id": "vOQakrOhtGwS"
      },
      "execution_count": null,
      "outputs": []
    },
    {
      "cell_type": "code",
      "source": [
        "myData['clean_review']"
      ],
      "metadata": {
        "colab": {
          "base_uri": "https://localhost:8080/"
        },
        "id": "iXKL48e7tq2o",
        "outputId": "7fe1113a-2fe0-412a-b9c8-85b32dacfc54"
      },
      "execution_count": null,
      "outputs": [
        {
          "output_type": "execute_result",
          "data": {
            "text/plain": [
              "0                                          love great seller\n",
              "1          one favourite albums one favourite singers hap...\n",
              "2          thank jesus lord god brother green's music sti...\n",
              "3          recall loving albums maybe one forgot figured ...\n",
              "4          keith green pioneer field christian rock loved...\n",
              "                                 ...                        \n",
              "1443750    night hawk ten outstanding new recordings cowb...\n",
              "1443751                                                   ok\n",
              "1443752         great music great sound love music lots hits\n",
              "1443753                        really good fun quality stuff\n",
              "1443754    great lp guess love albums order came time cd'...\n",
              "Name: clean_review, Length: 743956, dtype: object"
            ]
          },
          "metadata": {},
          "execution_count": 12
        }
      ]
    },
    {
      "cell_type": "code",
      "source": [
        "type(targets)"
      ],
      "metadata": {
        "colab": {
          "base_uri": "https://localhost:8080/"
        },
        "id": "o8hff7k--qMC",
        "outputId": "1f28f105-91cd-4a7b-f341-d11c052f516f"
      },
      "execution_count": null,
      "outputs": [
        {
          "output_type": "execute_result",
          "data": {
            "text/plain": [
              "numpy.ndarray"
            ]
          },
          "metadata": {},
          "execution_count": 25
        }
      ]
    },
    {
      "cell_type": "code",
      "source": [
        "# Split the data into training and test sets\n",
        "train_data, test_data = train_test_split(myData, test_size=0.2, random_state=42)\n"
      ],
      "metadata": {
        "id": "lW6fE0PvYvek"
      },
      "execution_count": null,
      "outputs": []
    },
    {
      "cell_type": "code",
      "source": [
        "# Create a tokenizer and fit it on the training data\n",
        "tokenizer = Tokenizer(num_words=10000)\n",
        "tokenizer.fit_on_texts(train_data['clean_review'])"
      ],
      "metadata": {
        "id": "FxR8o5aQY9GO"
      },
      "execution_count": null,
      "outputs": []
    },
    {
      "cell_type": "code",
      "source": [
        "# Convert the text reviews to sequences of word indices\n",
        "train_sequences = tokenizer.texts_to_sequences(train_data['clean_review'])\n",
        "test_sequences = tokenizer.texts_to_sequences(test_data['clean_review'])"
      ],
      "metadata": {
        "id": "ZWVkCPQ1Y6nx"
      },
      "execution_count": null,
      "outputs": []
    },
    {
      "cell_type": "code",
      "source": [
        "# Pad the sequences to a fixed length\n",
        "maxlen = 256\n",
        "x_train = pad_sequences(train_sequences, maxlen=maxlen)\n",
        "x_test = pad_sequences(test_sequences, maxlen=maxlen)"
      ],
      "metadata": {
        "id": "UbaBpq3ZY4tk"
      },
      "execution_count": null,
      "outputs": []
    },
    {
      "cell_type": "code",
      "source": [
        "# Print the shapes of x_train and x_test\n",
        "print('Shape of x_train:', x_train.shape)\n",
        "print('Shape of x_test:', x_test.shape)"
      ],
      "metadata": {
        "colab": {
          "base_uri": "https://localhost:8080/"
        },
        "id": "kQK6nCDTY23m",
        "outputId": "4478709b-72c6-4b21-e717-08ee4edda1b4"
      },
      "execution_count": null,
      "outputs": [
        {
          "output_type": "stream",
          "name": "stdout",
          "text": [
            "Shape of x_train: (1155004, 256)\n",
            "Shape of x_test: (288751, 256)\n"
          ]
        }
      ]
    },
    {
      "cell_type": "code",
      "source": [
        "y_train = train_data['label'].values\n",
        "y_test = test_data['label'].values"
      ],
      "metadata": {
        "id": "e1EtMw62ag1D"
      },
      "execution_count": null,
      "outputs": []
    },
    {
      "cell_type": "code",
      "source": [
        "print('Shape of y_train:', y_train.shape)\n",
        "print('Shape of y_test:', y_test.shape)"
      ],
      "metadata": {
        "colab": {
          "base_uri": "https://localhost:8080/"
        },
        "id": "TqYih16XaNZr",
        "outputId": "c8571e51-0434-4b51-9a36-c1fb9eaef0b5"
      },
      "execution_count": null,
      "outputs": [
        {
          "output_type": "stream",
          "name": "stdout",
          "text": [
            "Shape of y_train: (1155004,)\n",
            "Shape of y_test: (288751,)\n"
          ]
        }
      ]
    },
    {
      "cell_type": "code",
      "source": [
        "from tensorflow import keras\n",
        "from tensorflow.keras import layers\n",
        "\n",
        "# Define the model architecture\n",
        "model = keras.Sequential()\n",
        "\n",
        "model.add(layers.Embedding(input_dim=10000, output_dim=16))\n",
        "model.add(layers.GlobalAveragePooling1D())\n",
        "model.add(layers.Dense(units=16, activation='relu'))\n",
        "model.add(layers.Dense(units=1, activation='sigmoid'))\n",
        "\n",
        "model.summary()"
      ],
      "metadata": {
        "colab": {
          "base_uri": "https://localhost:8080/"
        },
        "id": "IndChlc7oana",
        "outputId": "f2cab2af-f6be-4c95-cb3f-bf933aea9afd"
      },
      "execution_count": null,
      "outputs": [
        {
          "output_type": "stream",
          "name": "stdout",
          "text": [
            "Model: \"sequential\"\n",
            "_________________________________________________________________\n",
            " Layer (type)                Output Shape              Param #   \n",
            "=================================================================\n",
            " embedding (Embedding)       (None, None, 16)          160000    \n",
            "                                                                 \n",
            " global_average_pooling1d (G  (None, 16)               0         \n",
            " lobalAveragePooling1D)                                          \n",
            "                                                                 \n",
            " dense (Dense)               (None, 16)                272       \n",
            "                                                                 \n",
            " dense_1 (Dense)             (None, 1)                 17        \n",
            "                                                                 \n",
            "=================================================================\n",
            "Total params: 160,289\n",
            "Trainable params: 160,289\n",
            "Non-trainable params: 0\n",
            "_________________________________________________________________\n"
          ]
        }
      ]
    },
    {
      "cell_type": "markdown",
      "source": [
        "Compile the network using adam optimzer and binary crossentropy loss function"
      ],
      "metadata": {
        "id": "kxiLRn_PP5VU"
      }
    },
    {
      "cell_type": "code",
      "source": [
        "# Compile the model\n",
        "model.compile(optimizer='adam',\n",
        "              loss='binary_crossentropy',\n",
        "              metrics=['accuracy'])"
      ],
      "metadata": {
        "id": "gQZCaANbbjm3"
      },
      "execution_count": null,
      "outputs": []
    },
    {
      "cell_type": "code",
      "source": [
        "# Train the model\n",
        "model.fit(x_train, y_train, epochs=10, batch_size=256, validation_data=(x_test, y_test))\n",
        "\n"
      ],
      "metadata": {
        "colab": {
          "base_uri": "https://localhost:8080/"
        },
        "id": "-9wVxvmTb6kx",
        "outputId": "0b443a9c-f4df-4dca-a443-706c49070826"
      },
      "execution_count": null,
      "outputs": [
        {
          "output_type": "stream",
          "name": "stdout",
          "text": [
            "Epoch 1/10\n",
            "4512/4512 [==============================] - 214s 46ms/step - loss: 0.2985 - accuracy: 0.8862 - val_loss: 0.2522 - val_accuracy: 0.9029\n",
            "Epoch 2/10\n",
            "4512/4512 [==============================] - 48s 11ms/step - loss: 0.2418 - accuracy: 0.9056 - val_loss: 0.2425 - val_accuracy: 0.9048\n",
            "Epoch 3/10\n",
            "4512/4512 [==============================] - 39s 9ms/step - loss: 0.2338 - accuracy: 0.9084 - val_loss: 0.2363 - val_accuracy: 0.9067\n",
            "Epoch 4/10\n",
            "4512/4512 [==============================] - 35s 8ms/step - loss: 0.2295 - accuracy: 0.9097 - val_loss: 0.2342 - val_accuracy: 0.9080\n",
            "Epoch 5/10\n",
            "4512/4512 [==============================] - 38s 8ms/step - loss: 0.2267 - accuracy: 0.9104 - val_loss: 0.2329 - val_accuracy: 0.9079\n",
            "Epoch 6/10\n",
            "4512/4512 [==============================] - 28s 6ms/step - loss: 0.2243 - accuracy: 0.9112 - val_loss: 0.2334 - val_accuracy: 0.9071\n",
            "Epoch 7/10\n",
            "4512/4512 [==============================] - 29s 6ms/step - loss: 0.2224 - accuracy: 0.9118 - val_loss: 0.2327 - val_accuracy: 0.9080\n",
            "Epoch 8/10\n",
            "4512/4512 [==============================] - 30s 7ms/step - loss: 0.2206 - accuracy: 0.9123 - val_loss: 0.2324 - val_accuracy: 0.9081\n",
            "Epoch 9/10\n",
            "4512/4512 [==============================] - 29s 6ms/step - loss: 0.2193 - accuracy: 0.9126 - val_loss: 0.2352 - val_accuracy: 0.9079\n",
            "Epoch 10/10\n",
            "4512/4512 [==============================] - 28s 6ms/step - loss: 0.2180 - accuracy: 0.9132 - val_loss: 0.2324 - val_accuracy: 0.9082\n"
          ]
        },
        {
          "output_type": "execute_result",
          "data": {
            "text/plain": [
              "<keras.callbacks.History at 0x7f8fe39f48b0>"
            ]
          },
          "metadata": {},
          "execution_count": 17
        }
      ]
    },
    {
      "cell_type": "code",
      "source": [
        "# Evaluate the model on test data\n",
        "loss, accuracy = model.evaluate(x_test, y_test, verbose=False)\n",
        "print(f'Test Accuracy: {accuracy:.4f}')"
      ],
      "metadata": {
        "colab": {
          "base_uri": "https://localhost:8080/"
        },
        "id": "77LfEZaejsR7",
        "outputId": "f204c2c1-b61c-4dc2-b001-613560c2b093"
      },
      "execution_count": null,
      "outputs": [
        {
          "output_type": "stream",
          "name": "stdout",
          "text": [
            "Test Accuracy: 0.9082\n"
          ]
        }
      ]
    },
    {
      "cell_type": "code",
      "source": [
        "# Evaluate the model on test data\n",
        "loss, accuracy = model.evaluate(x_test, y_test, verbose=False)\n",
        "print(f'Test Accuracy: {accuracy:.4f}')"
      ],
      "metadata": {
        "colab": {
          "base_uri": "https://localhost:8080/"
        },
        "id": "o8i-K4Uqb8c5",
        "outputId": "045291fa-add7-4f44-8ecd-6062cb84c002"
      },
      "execution_count": null,
      "outputs": [
        {
          "output_type": "stream",
          "name": "stdout",
          "text": [
            "Test Accuracy: 0.9314\n"
          ]
        }
      ]
    }
  ]
}